{
 "cells": [
  {
   "cell_type": "markdown",
   "metadata": {},
   "source": [
    "# Pandas & Visualization Exercise\n",
    "_Author: B Rhodes (DC)_\n",
    "\n",
    "\n",
    "Complete the following exercises in class. You will need to use the available documentation for matplotlib and seaborn. For all the tasks below, once you determine the correct method to use you can write it in a cell and then use the `shift-tab` trick to get details on what parameters to set.\n",
    "\n",
    "Documentation can be found at the following sites:\n",
    "\n",
    "- [Matplotlib Documentation](https://matplotlib.org/)\n",
    "    - The [examples gallery](https://matplotlib.org/gallery/index.html) is very helpful. \n",
    "- [Seaborn Documentation](https://seaborn.pydata.org/)\n",
    "    - The [examples gallery](https://seaborn.pydata.org/examples/index.html) is very helpful.\n",
    "\n",
    "Note, most of the matplotlib tasks can be done by referring to the other notebooks in this lesson. The seaborn tasks are not all covered in this lesson and the documentation may be necessary. Although, in most cases you are asked to use a specific seaborn method so you should be able to figure out what needs to be done without referring to the documentation.\n",
    "\n",
    "**```shift-tab``` is your friend.**\n",
    "\n",
    "Also, don't forget to use `;` to supress extraneous output when executing various plot commands. And give each plot a title and make sure axes are labeled properly.\n",
    "\n"
   ]
  },
  {
   "cell_type": "markdown",
   "metadata": {},
   "source": [
    "##### An example problem\n",
    "Use `.random()` from the `random` module to generate a random number. \n",
    "\n",
    "Now, if you didn't want to first look at the documentation you could simply write the method and use `shift-tab` to inspect the docstring."
   ]
  },
  {
   "cell_type": "code",
   "execution_count": null,
   "metadata": {
    "ExecuteTime": {
     "end_time": "2020-10-01T15:41:20.810592Z",
     "start_time": "2020-10-01T15:41:20.785124Z"
    }
   },
   "outputs": [],
   "source": [
    "# This is here just as an example to show you to write the function you want to use and \n",
    "# then use shift-tab to see how that method works. That way you won't have to go back and forth\n",
    "# too much with the documentation.\n",
    "import random\n",
    "\n",
    "# use shift-tab to determine what arguments and parameters you need.\n",
    "random.random()"
   ]
  },
  {
   "cell_type": "markdown",
   "metadata": {},
   "source": [
    "###### 1. import pandas and matplotlib\n",
    "\n",
    "Read all the questions first and import all the necessary libraries here.\n",
    "Remember we use the magic ```%inline matplotlib``` to display plots in the jupyter notebook."
   ]
  },
  {
   "cell_type": "code",
   "execution_count": null,
   "metadata": {
    "ExecuteTime": {
     "end_time": "2020-09-27T05:51:02.779160Z",
     "start_time": "2020-09-27T05:51:02.776745Z"
    }
   },
   "outputs": [],
   "source": [
    "# import all necessary libraries here\n"
   ]
  },
  {
   "cell_type": "markdown",
   "metadata": {},
   "source": [
    "###### 2. Create a dataframe from the following data set & verify the result. \n",
    "\n",
    "[Auto MPG Dataset](https://code.datasciencedojo.com/datasciencedojo/datasets/raw/master/Auto%20MPG/auto-mpg.data)\n",
    "\n",
    "Use this path: ```'./datasets/autoMPG.csv'```\n",
    "\n",
    "Here is the [data dictionary](https://code.datasciencedojo.com/datasciencedojo/datasets/tree/master/Auto%20MPG).\n",
    "\n",
    "You will need to do some data cleaning to get this data ready to plot. Use the simplest solution you can think of to clean the data. In the end all your data, except the name, needs to be numerical.\n"
   ]
  },
  {
   "cell_type": "code",
   "execution_count": null,
   "metadata": {
    "ExecuteTime": {
     "end_time": "2020-09-27T05:51:02.801070Z",
     "start_time": "2020-09-27T05:51:02.789858Z"
    }
   },
   "outputs": [],
   "source": [
    "# 2. Answer\n",
    "path = '../datasets/autoMPG.csv'\n",
    "\n",
    "# read in the data\n",
    "\n",
    "# verify the result\n"
   ]
  },
  {
   "cell_type": "markdown",
   "metadata": {},
   "source": [
    "###### 3. Explore the data\n",
    "Use standard pandas methods to explore the data.\n",
    "\n"
   ]
  },
  {
   "cell_type": "code",
   "execution_count": null,
   "metadata": {
    "ExecuteTime": {
     "end_time": "2020-09-27T05:51:02.810826Z",
     "start_time": "2020-09-27T05:51:02.807354Z"
    },
    "scrolled": false
   },
   "outputs": [],
   "source": []
  },
  {
   "cell_type": "markdown",
   "metadata": {},
   "source": [
    "Look at all the values for any non-numeric columns. You can use the pandas attirbute `.values` to look at all the values in a series."
   ]
  },
  {
   "cell_type": "code",
   "execution_count": null,
   "metadata": {
    "ExecuteTime": {
     "end_time": "2020-09-27T05:51:02.822755Z",
     "start_time": "2020-09-27T05:51:02.818456Z"
    }
   },
   "outputs": [],
   "source": [
    "## We can see all the values in a given column\n",
    "# we want to look at horsepower, since it has data type object, which means it contains string data.\n"
   ]
  },
  {
   "cell_type": "markdown",
   "metadata": {},
   "source": [
    "\n",
    "How would you identify the rows with non-numeric values? And how would you handle them?"
   ]
  },
  {
   "cell_type": "code",
   "execution_count": null,
   "metadata": {
    "ExecuteTime": {
     "end_time": "2020-09-27T05:51:02.833779Z",
     "start_time": "2020-09-27T05:51:02.830380Z"
    }
   },
   "outputs": [],
   "source": [
    "# identify the rows and decide what to do with them.\n"
   ]
  },
  {
   "cell_type": "code",
   "execution_count": null,
   "metadata": {
    "ExecuteTime": {
     "end_time": "2020-09-27T05:51:02.851298Z",
     "start_time": "2020-09-27T05:51:02.843247Z"
    },
    "scrolled": true
   },
   "outputs": [],
   "source": [
    "# Check the results\n"
   ]
  },
  {
   "cell_type": "code",
   "execution_count": null,
   "metadata": {
    "ExecuteTime": {
     "end_time": "2020-09-27T05:51:02.860273Z",
     "start_time": "2020-09-27T05:51:02.857095Z"
    }
   },
   "outputs": [],
   "source": [
    "# Convert data to actual numerical values\n"
   ]
  },
  {
   "cell_type": "markdown",
   "metadata": {},
   "source": [
    "###### 4.  Generate summary statistics on the data set?\n"
   ]
  },
  {
   "cell_type": "code",
   "execution_count": null,
   "metadata": {
    "ExecuteTime": {
     "end_time": "2020-09-27T05:51:02.869741Z",
     "start_time": "2020-09-27T05:51:02.866582Z"
    }
   },
   "outputs": [],
   "source": [
    "# Generate summary stats\n",
    "\n"
   ]
  },
  {
   "cell_type": "markdown",
   "metadata": {},
   "source": [
    "###### 5. generate a scatter plot of  displacement vs  horsepower?\n"
   ]
  },
  {
   "cell_type": "code",
   "execution_count": null,
   "metadata": {
    "ExecuteTime": {
     "end_time": "2020-09-27T05:51:02.886626Z",
     "start_time": "2020-09-27T05:51:02.878209Z"
    }
   },
   "outputs": [],
   "source": [
    "# 4. Answer\n"
   ]
  },
  {
   "cell_type": "markdown",
   "metadata": {
    "ExecuteTime": {
     "end_time": "2020-02-12T04:46:07.991733Z",
     "start_time": "2020-02-12T04:46:07.985765Z"
    }
   },
   "source": [
    "###### 6. generate a scatter plot of  displacement vs  horsepower and vary color by mpg for each point?\n",
    "###### Bonus points: use a reverse color gradient\n"
   ]
  },
  {
   "cell_type": "code",
   "execution_count": null,
   "metadata": {
    "ExecuteTime": {
     "end_time": "2020-09-27T05:51:02.896978Z",
     "start_time": "2020-09-27T05:51:02.893937Z"
    }
   },
   "outputs": [],
   "source": [
    "# 5. answer\n"
   ]
  },
  {
   "cell_type": "markdown",
   "metadata": {
    "ExecuteTime": {
     "end_time": "2020-06-29T14:37:49.891815Z",
     "start_time": "2020-06-29T14:37:49.887975Z"
    }
   },
   "source": [
    "###### 7. Use seaborn's lmplot to create a scatterplot of displacement vs  horsepower with a trend line. What does this show?\n"
   ]
  },
  {
   "cell_type": "code",
   "execution_count": null,
   "metadata": {
    "ExecuteTime": {
     "end_time": "2020-09-27T05:51:03.068610Z",
     "start_time": "2020-09-27T05:51:03.065787Z"
    }
   },
   "outputs": [],
   "source": [
    "# 6. answer\n"
   ]
  },
  {
   "cell_type": "markdown",
   "metadata": {},
   "source": [
    "###### 8. Use seaborn to create a lineplot of mpg vs displacement.\n",
    "\n",
    "Use seaborn `.lineplot()` and be sure to give it a title.\n",
    "\n",
    "What does this show? What can you conclude?"
   ]
  },
  {
   "cell_type": "code",
   "execution_count": null,
   "metadata": {
    "ExecuteTime": {
     "end_time": "2020-09-27T05:51:03.256479Z",
     "start_time": "2020-09-27T05:51:03.250606Z"
    },
    "scrolled": true
   },
   "outputs": [],
   "source": [
    "# 7. answer\n"
   ]
  },
  {
   "cell_type": "markdown",
   "metadata": {},
   "source": [
    "###### 9. Create a barplot of mpg vs model year - use seaborn\n",
    "\n",
    "Use seaborn `.barplot()` and be sure to give it a title."
   ]
  },
  {
   "cell_type": "code",
   "execution_count": null,
   "metadata": {
    "ExecuteTime": {
     "end_time": "2020-09-27T05:42:07.150873Z",
     "start_time": "2020-09-27T05:42:07.137152Z"
    }
   },
   "outputs": [],
   "source": []
  },
  {
   "cell_type": "markdown",
   "metadata": {},
   "source": [
    "###### 10. Create a scatter plot of mpg vs displacement and use cylinders to set the hue."
   ]
  },
  {
   "cell_type": "code",
   "execution_count": null,
   "metadata": {
    "ExecuteTime": {
     "end_time": "2020-09-27T05:42:05.050698Z",
     "start_time": "2020-09-27T05:42:05.046470Z"
    }
   },
   "outputs": [],
   "source": []
  },
  {
   "cell_type": "markdown",
   "metadata": {},
   "source": [
    "###### 11. Use seaborn `.swarmplot()` to plot a mpg vs year"
   ]
  },
  {
   "cell_type": "code",
   "execution_count": null,
   "metadata": {
    "ExecuteTime": {
     "end_time": "2020-09-27T05:42:30.559975Z",
     "start_time": "2020-09-27T05:42:30.556477Z"
    }
   },
   "outputs": [],
   "source": []
  },
  {
   "cell_type": "markdown",
   "metadata": {},
   "source": [
    "###### 12. Repeat the last exercise, but add hue coded by cylinders.\n",
    "\n",
    "What does this tell you?"
   ]
  },
  {
   "cell_type": "code",
   "execution_count": null,
   "metadata": {
    "ExecuteTime": {
     "end_time": "2020-09-27T05:42:46.704139Z",
     "start_time": "2020-09-27T05:42:46.700330Z"
    },
    "scrolled": true
   },
   "outputs": [],
   "source": []
  },
  {
   "cell_type": "markdown",
   "metadata": {},
   "source": [
    "###### 13. Create a seaborn countplot of model year and cylinders.\n",
    "\n",
    "Plot model year using `.countplot()` and set hue=cylinders. What does this tell you about the number of cylinders vs model year?"
   ]
  },
  {
   "cell_type": "code",
   "execution_count": null,
   "metadata": {
    "ExecuteTime": {
     "end_time": "2020-09-27T05:43:18.780145Z",
     "start_time": "2020-09-27T05:43:18.776539Z"
    }
   },
   "outputs": [],
   "source": []
  },
  {
   "cell_type": "markdown",
   "metadata": {
    "ExecuteTime": {
     "end_time": "2020-09-27T04:31:14.853743Z",
     "start_time": "2020-09-27T04:31:14.849973Z"
    }
   },
   "source": [
    "###### 14. Create a histogram using seaborn's `.distplot()`\n",
    "\n",
    "Create a histogram of acceleration using seaborn's `'.distplot()`. Use `bins = 10`\n"
   ]
  },
  {
   "cell_type": "code",
   "execution_count": null,
   "metadata": {
    "ExecuteTime": {
     "end_time": "2020-09-27T05:43:16.613976Z",
     "start_time": "2020-09-27T05:43:16.609920Z"
    }
   },
   "outputs": [],
   "source": []
  },
  {
   "cell_type": "markdown",
   "metadata": {
    "ExecuteTime": {
     "end_time": "2020-09-27T04:32:47.099800Z",
     "start_time": "2020-09-27T04:32:47.085158Z"
    }
   },
   "source": [
    "###### 15. Repeat 14 but add a density plot Create a histogram using seaborn's `.distplot()`\n",
    "\n",
    "Create a histogram of acceleration using seaborn's `'.distplot()` and add a density plot.\n"
   ]
  },
  {
   "cell_type": "code",
   "execution_count": null,
   "metadata": {
    "ExecuteTime": {
     "end_time": "2020-09-27T05:43:41.898159Z",
     "start_time": "2020-09-27T05:43:41.895584Z"
    },
    "scrolled": true
   },
   "outputs": [],
   "source": []
  },
  {
   "cell_type": "markdown",
   "metadata": {},
   "source": [
    "###### 16. Add mpg to the above plot.\n",
    "\n",
    "You can plot two histograms in the same plot."
   ]
  },
  {
   "cell_type": "code",
   "execution_count": null,
   "metadata": {
    "ExecuteTime": {
     "end_time": "2020-09-27T05:44:14.092375Z",
     "start_time": "2020-09-27T05:44:14.089498Z"
    }
   },
   "outputs": [],
   "source": []
  },
  {
   "cell_type": "markdown",
   "metadata": {},
   "source": [
    "###### 17. Create a density plot using seaborn's `.kdeplot()`\n",
    "\n",
    "Create density plots of mpg and acceleration on the same graph. Use the `shade` parameter to fill in under the curves."
   ]
  },
  {
   "cell_type": "code",
   "execution_count": null,
   "metadata": {
    "ExecuteTime": {
     "end_time": "2020-09-27T05:44:27.916577Z",
     "start_time": "2020-09-27T05:44:27.913815Z"
    }
   },
   "outputs": [],
   "source": []
  },
  {
   "cell_type": "markdown",
   "metadata": {},
   "source": [
    "###### 18. Create a seaborn `jointplot` of displacement vs mpg"
   ]
  },
  {
   "cell_type": "code",
   "execution_count": null,
   "metadata": {
    "ExecuteTime": {
     "end_time": "2020-09-27T05:44:42.822179Z",
     "start_time": "2020-09-27T05:44:42.819134Z"
    }
   },
   "outputs": [],
   "source": []
  },
  {
   "cell_type": "markdown",
   "metadata": {},
   "source": [
    "###### 19. Repeat the above, but change the kind of plot to a density plot.\n",
    "Use seaborn to create a jointplot, but change the kind to a density plot. The command should be the same, but you need to set a new parameter. Use `shift-tab` to figure out which parameter that is."
   ]
  },
  {
   "cell_type": "code",
   "execution_count": null,
   "metadata": {
    "ExecuteTime": {
     "end_time": "2020-09-27T05:45:06.187774Z",
     "start_time": "2020-09-27T05:45:06.185214Z"
    }
   },
   "outputs": [],
   "source": []
  },
  {
   "cell_type": "markdown",
   "metadata": {},
   "source": [
    "###### 20. Use seaborn to create a boxplot of mpg vs model year "
   ]
  },
  {
   "cell_type": "code",
   "execution_count": null,
   "metadata": {
    "ExecuteTime": {
     "end_time": "2020-09-27T05:45:27.589426Z",
     "start_time": "2020-09-27T05:45:27.587101Z"
    }
   },
   "outputs": [],
   "source": []
  },
  {
   "cell_type": "markdown",
   "metadata": {},
   "source": [
    "###### 21. Use seaborn to create a correlation heatmap\n",
    "Include the following:\n",
    "\n",
    "1. Use a diverging color map.\n",
    "2. Set the center to zero.\n",
    "3. set linewidths to 0.5\n",
    "4. set square to True\n",
    "5. add numerical values in the squares\n",
    "6. Set the title to 'Correlation Heatmap w/ annotation'"
   ]
  },
  {
   "cell_type": "code",
   "execution_count": null,
   "metadata": {
    "ExecuteTime": {
     "end_time": "2020-09-27T05:45:50.295508Z",
     "start_time": "2020-09-27T05:45:50.292604Z"
    },
    "scrolled": true
   },
   "outputs": [],
   "source": [
    "\n"
   ]
  },
  {
   "cell_type": "markdown",
   "metadata": {},
   "source": [
    "###### 22. BONUS: Create a diagonal heatmap.\n",
    "Repeat the above, but make it a diagonal display.\n",
    "Refer to the seaborn documentation for an example."
   ]
  },
  {
   "cell_type": "code",
   "execution_count": null,
   "metadata": {
    "ExecuteTime": {
     "end_time": "2020-09-27T05:46:09.341819Z",
     "start_time": "2020-09-27T05:46:09.339246Z"
    }
   },
   "outputs": [],
   "source": []
  },
  {
   "cell_type": "code",
   "execution_count": null,
   "metadata": {},
   "outputs": [],
   "source": []
  }
 ],
 "metadata": {
  "kernelspec": {
   "display_name": "Python 3",
   "language": "python",
   "name": "python3"
  },
  "language_info": {
   "codemirror_mode": {
    "name": "ipython",
    "version": 3
   },
   "file_extension": ".py",
   "mimetype": "text/x-python",
   "name": "python",
   "nbconvert_exporter": "python",
   "pygments_lexer": "ipython3",
   "version": "3.7.3"
  },
  "toc": {
   "base_numbering": 1,
   "nav_menu": {},
   "number_sections": false,
   "sideBar": true,
   "skip_h1_title": false,
   "title_cell": "Table of Contents",
   "title_sidebar": "Contents",
   "toc_cell": false,
   "toc_position": {},
   "toc_section_display": true,
   "toc_window_display": false
  }
 },
 "nbformat": 4,
 "nbformat_minor": 2
}
