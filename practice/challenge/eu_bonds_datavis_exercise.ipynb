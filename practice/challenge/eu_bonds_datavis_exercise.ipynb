{
 "cells": [
  {
   "cell_type": "markdown",
   "metadata": {},
   "source": [
    "<img src=\"http://imgur.com/1ZcRyrc.png\" style=\"float: left; margin: 20px; height: 55px\">\n",
    "\n",
    "# EU government bond yields - data visualisation exercise"
   ]
  },
  {
   "cell_type": "markdown",
   "metadata": {},
   "source": [
    "In this exercise we'll use the dataset of long term government bond yields from [data.europa.eu](https://data.europa.eu/euodp/en/data/dataset/JmCLAeHrvXI80AhjeV3zYQ) that we saw in a previous `pandas` practice.\n",
    "\n",
    "### 1. Load the data\n",
    "\n",
    "Use the version of the dataset you exported from the `pandas` exercise. Otherwise you can use a cleaned version provided in the `datasets` folder."
   ]
  },
  {
   "cell_type": "code",
   "execution_count": null,
   "metadata": {},
   "outputs": [],
   "source": []
  },
  {
   "cell_type": "markdown",
   "metadata": {},
   "source": [
    "### 2. Plot the average rate per country using a *horizontal bar chart*\n",
    "\n",
    "Remember to get into the habit of labelling your axes, adding a title etc.\n",
    "\n",
    "*Bonus: sort the data so that bars are in descending order in size (from top to bottom)*"
   ]
  },
  {
   "cell_type": "code",
   "execution_count": null,
   "metadata": {},
   "outputs": [],
   "source": []
  },
  {
   "cell_type": "markdown",
   "metadata": {},
   "source": [
    "### 3. Plot each country's rates over time on a line chart\n",
    "\n",
    "### 3. a) Get the data in the right format\n",
    "\n",
    "To make this easier using `matplotlib`, getting the data in the right format is key, so this answer will take a few parts to get right.\n",
    "\n",
    "The format we're aiming for is each column being a country and each row a month:\n",
    "\n",
    "| Month | Austria   | ... |\n",
    "|---------|---------|------|\n",
    "| 2019M02 | 0.45 | ... |\n",
    "| 2019M03 | 0.38 | ... |\n",
    "\n",
    "The [relevant `pandas` documentation](https://pandas.pydata.org/pandas-docs/stable/user_guide/reshaping.html) should help you get the data into the desired format."
   ]
  },
  {
   "cell_type": "code",
   "execution_count": null,
   "metadata": {},
   "outputs": [],
   "source": []
  },
  {
   "cell_type": "markdown",
   "metadata": {},
   "source": [
    "### 3. b) Now plot the time series\n",
    "\n",
    "Remember to include axis labels, a title, and a legend\n",
    "\n",
    "*Bonus: replace the 2019M02-style labels with a more human-readable label for months*"
   ]
  },
  {
   "cell_type": "code",
   "execution_count": null,
   "metadata": {},
   "outputs": [],
   "source": []
  },
  {
   "cell_type": "markdown",
   "metadata": {},
   "source": [
    "### 3. c) Create a more interpretable visual\n",
    "\n",
    "Clearly that's too many countries to put on a static image.\n",
    "\n",
    "Recreate the visual but only for the following countries: Belgium, Germany, Denmark, Finland, and Slovakia\n",
    "\n",
    "Add a faint, dashed, horizontal line at y=0 so it's clear where rates go above/below 0"
   ]
  },
  {
   "cell_type": "code",
   "execution_count": null,
   "metadata": {},
   "outputs": [],
   "source": []
  },
  {
   "cell_type": "markdown",
   "metadata": {},
   "source": [
    "### 4. [Advanced] Use the `seaborn` library to visualise the spread of rates per country\n",
    "\n",
    "Choose an appropriate visualisation to show not just the average, but the distribution of rate values per country. Your visualisation should show one row/column per country and the resulting spread/distribution of rate.\n",
    "\n",
    "Seaborn has a few options for you to try, have a look at [the example gallery](https://seaborn.pydata.org/examples/index.html).\n",
    "\n",
    "*Hint: you may find it easier to convert your data to a narrow format first*\n",
    "\n",
    "Reminder:\n",
    "\n",
    "The idea is rather than having a column per month, have a \"month\" column and have all the values stored in it. The data should therefore look like this:\n",
    "\n",
    "| Country | Month   | Rate |\n",
    "|---------|---------|------|\n",
    "| Austria | 2019M02 | 0.45 |\n",
    "| Austria | 2019M03 | 0.38 |\n",
    "\n",
    "Use [this pandas article](https://pandas.pydata.org/pandas-docs/stable/user_guide/reshaping.html) to help you find the right command.\n",
    "\n",
    "You can read more about wide vs. narrow data here: [https://en.wikipedia.org/wiki/Wide_and_narrow_data](https://en.wikipedia.org/wiki/Wide_and_narrow_data)"
   ]
  },
  {
   "cell_type": "code",
   "execution_count": null,
   "metadata": {},
   "outputs": [],
   "source": []
  }
 ],
 "metadata": {
  "kernelspec": {
   "display_name": "Python 3",
   "language": "python",
   "name": "python3"
  },
  "language_info": {
   "codemirror_mode": {
    "name": "ipython",
    "version": 3
   },
   "file_extension": ".py",
   "mimetype": "text/x-python",
   "name": "python",
   "nbconvert_exporter": "python",
   "pygments_lexer": "ipython3",
   "version": "3.8.2"
  }
 },
 "nbformat": 4,
 "nbformat_minor": 4
}
